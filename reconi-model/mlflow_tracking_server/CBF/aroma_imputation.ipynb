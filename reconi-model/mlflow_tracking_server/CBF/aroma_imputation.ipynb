{
 "cells": [
  {
   "cell_type": "code",
   "execution_count": 53,
   "metadata": {},
   "outputs": [],
   "source": [
    "import numpy as np\n",
    "import pandas as pd\n",
    "import matplotlib.pyplot as plt\n",
    "from matplotlib import rc\n",
    "\n",
    "import statsmodels.api as sm\n",
    "import lightgbm as lgb\n",
    "from catboost import CatBoostRegressor\n",
    "\n",
    "import pickle\n",
    "\n",
    "from sklearn.inspection import permutation_importance\n",
    "from sklearn.model_selection import train_test_split\n",
    "from sklearn.ensemble import RandomForestRegressor\n",
    "from sklearn.metrics import mean_squared_error\n",
    "\n",
    "\n",
    "from data import *\n",
    "from feature_engineering import *\n",
    "from tqdm.auto import tqdm"
   ]
  },
  {
   "cell_type": "code",
   "execution_count": 54,
   "metadata": {},
   "outputs": [],
   "source": [
    "load_all_items_query = \"select * from coffee_bean_bean\"\n",
    "load_all_reviews_query = \"select * from coffee_bean_beanreview\"\n",
    "items = load_table(load_all_items_query)\n",
    "reviews = load_table(load_all_reviews_query)"
   ]
  },
  {
   "cell_type": "code",
   "execution_count": 55,
   "metadata": {},
   "outputs": [
    {
     "name": "stderr",
     "output_type": "stream",
     "text": [
      "Extracting nouns: 100%|██████████| 424/424 [00:01<00:00, 327.44it/s]\n",
      "Extracting keywords: 100%|██████████| 424/424 [00:12<00:00, 32.90it/s]\n"
     ]
    }
   ],
   "source": [
    "items = feature_engineering(items, reviews, None, all=all)\n",
    "items = extract_keywords(items)\n",
    "items = items.drop(columns=[\"coupang_link\", \"bean_id_id\"])\n",
    "\n",
    "mask_idx = items[\n",
    "    (items[\"roastery\"] == \"콩스콩스\") & (items[\"review_count\"].isna())\n",
    "].index  # 리뷰가 없는 콩스콩스 상품들의 인덱스\n",
    "items.loc[mask_idx, [\"review_count\", \"rating\"]] = 0"
   ]
  },
  {
   "cell_type": "code",
   "execution_count": 56,
   "metadata": {},
   "outputs": [],
   "source": [
    "items[\"keywords_set\"] = items[\"keywords_set\"].apply(lambda x: list(x)[:5])\n",
    "items\n",
    "items.to_csv('키워드.csv', index=False)"
   ]
  },
  {
   "cell_type": "code",
   "execution_count": 62,
   "metadata": {},
   "outputs": [
    {
     "name": "stdout",
     "output_type": "stream",
     "text": [
      "['가공', '가미', '갈색', '감귤', '감칠맛', '강조', '개성', '건자두', '건포도', '견과', '경험', '고구마', '고급', '고소', '고유', '곡물', '과실', '과일', '과테말라', '균형', '균형감', '기억', '깔끔', '꽃향기', '내음', '내추럴', '너트', '노트', '노하우', '농도', '농장', '농후', '뉘앙스', '늬앙스', '닙스', '다양', '다크', '단맛', '단순', '달콤쌉싸름한', '당밀', '대중', '대표', '데일리', '독특', '뒷맛', '디카페', '딸기', '땅콩', '라떼', '라즈베리', '레몬', '로스터스', '로스팅', '마무리', '마일드', '매력', '메인', '미디엄', '믹스', '밀크', '밀크초콜릿', '바닐라', '바디', '바디감', '방식', '배합', '밸런스', '베리', '베리류', '베리에이션', '베이스', '베트남', '복숭아', '복합', '본연', '부담', '브라운', '브라질', '블랙', '블랙베리', '블랜드', '블랜딩', '블렌드', '블렌드로', '블렌딩', '블루베리', '비스킷', '사과', '사랑', '사탕', '사탕수수', '산미', '산지', '살구', '생각', '생두', '선별', '선사', '선호', '설탕', '세계', '센터', '수프리모', '슈가', '스모키', '스페셜', '시그니처', '시럽', '시작', '시트러스', '식물학', '신맛', '싱글', '쌉싸름', '쓴맛', '아라비카', '아로마', '아메리카노', '아몬드', '아이스', '아프리카', '애프터', '에스프레소', '에티오피아', '여운', '연상', '열대', '오렌지', '오리진', '와인', '완벽', '우수', '우유', '워시드', '워터', '음료', '이스트', '인기', '인도', '인상', '일용', '자두', '자몽', '자스민', '전체', '조합', '조화', '주스', '중남미', '중심', '중점', '쥬시', '지속', '질감', '처음', '청사', '청포도', '체리', '초코', '초코렛', '초콜렛', '초콜릿', '촉감', '최고', '최상', '추구', '카라멜', '카카오', '카카오닙스', '카페', '카페인', '캔디', '캬라멜', '케냐', '코코아', '콜롬비아', '크리미', '크림', '클래식', '클린', '토양', '특별', '특유', '편안', '포도', '폭발', '품종', '풍미', '프로세스', '프로세싱', '플레이', '하루', '향기', '향미', '헤이즐넛', '호두', '호불호', '홍차', '화산', '화이트', '황설탕', '후미', '휴식']\n"
     ]
    }
   ],
   "source": [
    "print(sorted(list(set.union(*items['keywords_set'].apply(lambda x: set(x))))))"
   ]
  },
  {
   "cell_type": "code",
   "execution_count": 63,
   "metadata": {},
   "outputs": [
    {
     "data": {
      "text/html": [
       "<div>\n",
       "<style scoped>\n",
       "    .dataframe tbody tr th:only-of-type {\n",
       "        vertical-align: middle;\n",
       "    }\n",
       "\n",
       "    .dataframe tbody tr th {\n",
       "        vertical-align: top;\n",
       "    }\n",
       "\n",
       "    .dataframe thead th {\n",
       "        text-align: right;\n",
       "    }\n",
       "</style>\n",
       "<table border=\"1\" class=\"dataframe\">\n",
       "  <thead>\n",
       "    <tr style=\"text-align: right;\">\n",
       "      <th></th>\n",
       "      <th>id</th>\n",
       "      <th>aroma</th>\n",
       "      <th>acidity</th>\n",
       "      <th>sweetness</th>\n",
       "      <th>body</th>\n",
       "      <th>balance</th>\n",
       "      <th>roasting_point</th>\n",
       "      <th>review_count</th>\n",
       "      <th>rating</th>\n",
       "    </tr>\n",
       "  </thead>\n",
       "  <tbody>\n",
       "    <tr>\n",
       "      <th>count</th>\n",
       "      <td>424.000000</td>\n",
       "      <td>129.000000</td>\n",
       "      <td>424.000000</td>\n",
       "      <td>424.000000</td>\n",
       "      <td>424.000000</td>\n",
       "      <td>95.000000</td>\n",
       "      <td>424.000000</td>\n",
       "      <td>42.000000</td>\n",
       "      <td>0.0</td>\n",
       "    </tr>\n",
       "    <tr>\n",
       "      <th>mean</th>\n",
       "      <td>216.490566</td>\n",
       "      <td>6.751938</td>\n",
       "      <td>5.334906</td>\n",
       "      <td>7.450472</td>\n",
       "      <td>6.735849</td>\n",
       "      <td>6.673684</td>\n",
       "      <td>5.266509</td>\n",
       "      <td>769.309524</td>\n",
       "      <td>NaN</td>\n",
       "    </tr>\n",
       "    <tr>\n",
       "      <th>std</th>\n",
       "      <td>127.743870</td>\n",
       "      <td>0.935673</td>\n",
       "      <td>2.093807</td>\n",
       "      <td>1.515062</td>\n",
       "      <td>1.574332</td>\n",
       "      <td>0.764117</td>\n",
       "      <td>1.155606</td>\n",
       "      <td>1581.739417</td>\n",
       "      <td>NaN</td>\n",
       "    </tr>\n",
       "    <tr>\n",
       "      <th>min</th>\n",
       "      <td>0.000000</td>\n",
       "      <td>4.000000</td>\n",
       "      <td>2.000000</td>\n",
       "      <td>4.000000</td>\n",
       "      <td>2.000000</td>\n",
       "      <td>5.000000</td>\n",
       "      <td>2.000000</td>\n",
       "      <td>33.000000</td>\n",
       "      <td>NaN</td>\n",
       "    </tr>\n",
       "    <tr>\n",
       "      <th>25%</th>\n",
       "      <td>105.750000</td>\n",
       "      <td>6.000000</td>\n",
       "      <td>4.000000</td>\n",
       "      <td>6.000000</td>\n",
       "      <td>6.000000</td>\n",
       "      <td>6.000000</td>\n",
       "      <td>5.000000</td>\n",
       "      <td>92.500000</td>\n",
       "      <td>NaN</td>\n",
       "    </tr>\n",
       "    <tr>\n",
       "      <th>50%</th>\n",
       "      <td>214.500000</td>\n",
       "      <td>7.000000</td>\n",
       "      <td>6.000000</td>\n",
       "      <td>8.000000</td>\n",
       "      <td>6.000000</td>\n",
       "      <td>7.000000</td>\n",
       "      <td>5.500000</td>\n",
       "      <td>284.500000</td>\n",
       "      <td>NaN</td>\n",
       "    </tr>\n",
       "    <tr>\n",
       "      <th>75%</th>\n",
       "      <td>325.250000</td>\n",
       "      <td>7.000000</td>\n",
       "      <td>7.000000</td>\n",
       "      <td>8.000000</td>\n",
       "      <td>8.000000</td>\n",
       "      <td>7.000000</td>\n",
       "      <td>6.000000</td>\n",
       "      <td>602.750000</td>\n",
       "      <td>NaN</td>\n",
       "    </tr>\n",
       "    <tr>\n",
       "      <th>max</th>\n",
       "      <td>448.000000</td>\n",
       "      <td>9.000000</td>\n",
       "      <td>8.000000</td>\n",
       "      <td>10.000000</td>\n",
       "      <td>10.000000</td>\n",
       "      <td>8.000000</td>\n",
       "      <td>7.000000</td>\n",
       "      <td>9359.000000</td>\n",
       "      <td>NaN</td>\n",
       "    </tr>\n",
       "  </tbody>\n",
       "</table>\n",
       "</div>"
      ],
      "text/plain": [
       "               id       aroma     acidity   sweetness        body    balance  \\\n",
       "count  424.000000  129.000000  424.000000  424.000000  424.000000  95.000000   \n",
       "mean   216.490566    6.751938    5.334906    7.450472    6.735849   6.673684   \n",
       "std    127.743870    0.935673    2.093807    1.515062    1.574332   0.764117   \n",
       "min      0.000000    4.000000    2.000000    4.000000    2.000000   5.000000   \n",
       "25%    105.750000    6.000000    4.000000    6.000000    6.000000   6.000000   \n",
       "50%    214.500000    7.000000    6.000000    8.000000    6.000000   7.000000   \n",
       "75%    325.250000    7.000000    7.000000    8.000000    8.000000   7.000000   \n",
       "max    448.000000    9.000000    8.000000   10.000000   10.000000   8.000000   \n",
       "\n",
       "       roasting_point  review_count  rating  \n",
       "count      424.000000     42.000000     0.0  \n",
       "mean         5.266509    769.309524     NaN  \n",
       "std          1.155606   1581.739417     NaN  \n",
       "min          2.000000     33.000000     NaN  \n",
       "25%          5.000000     92.500000     NaN  \n",
       "50%          5.500000    284.500000     NaN  \n",
       "75%          6.000000    602.750000     NaN  \n",
       "max          7.000000   9359.000000     NaN  "
      ]
     },
     "execution_count": 63,
     "metadata": {},
     "output_type": "execute_result"
    }
   ],
   "source": [
    "items.describe()"
   ]
  },
  {
   "cell_type": "code",
   "execution_count": 57,
   "metadata": {},
   "outputs": [
    {
     "data": {
      "text/plain": [
       "id                     0.000\n",
       "title                  0.000\n",
       "aroma                 69.575\n",
       "acidity                0.000\n",
       "sweetness              0.000\n",
       "body                   0.000\n",
       "balance               77.594\n",
       "roasting_point         0.000\n",
       "roastery               0.000\n",
       "description            0.000\n",
       "thumbnail              0.000\n",
       "purchase               0.000\n",
       "review_count          90.094\n",
       "keywords_set           0.000\n",
       "keywords_sentence      0.000\n",
       "rating               100.000\n",
       "dtype: float64"
      ]
     },
     "execution_count": 57,
     "metadata": {},
     "output_type": "execute_result"
    }
   ],
   "source": [
    "round(items.isna().sum() / len(items) * 100, 3)"
   ]
  },
  {
   "cell_type": "code",
   "execution_count": 5,
   "metadata": {},
   "outputs": [
    {
     "data": {
      "text/plain": [
       "array(['콩스콩스'], dtype=object)"
      ]
     },
     "execution_count": 5,
     "metadata": {},
     "output_type": "execute_result"
    }
   ],
   "source": [
    "items[items['review_count'].isna()==False]['roastery'].unique()"
   ]
  },
  {
   "cell_type": "markdown",
   "metadata": {},
   "source": [
    "현재 사용하고 있는 결측치가 존재하는 피처는 aroma 뿐임, 이를 채워보자."
   ]
  },
  {
   "cell_type": "markdown",
   "metadata": {},
   "source": [
    "## 향미에 영향을 주는 피처 탐색"
   ]
  },
  {
   "cell_type": "code",
   "execution_count": 6,
   "metadata": {},
   "outputs": [
    {
     "name": "stdout",
     "output_type": "stream",
     "text": [
      "Index(['id', 'title', 'aroma', 'acidity', 'sweetness', 'body', 'balance',\n",
      "       'roasting_point', 'roastery', 'description', 'thumbnail', 'purchase',\n",
      "       'review_count', 'keywords_set', 'keywords_sentence', 'rating'],\n",
      "      dtype='object')\n"
     ]
    }
   ],
   "source": [
    "print(items.columns)"
   ]
  },
  {
   "cell_type": "markdown",
   "metadata": {},
   "source": [
    "기본적인 커핑노트 정보는 향미에 영향을 줄 수 있을 것이라 판단됨.\n",
    "\n",
    "- ['acidity', 'sweetness', 'body', 'roasting_point']\n",
    "- 'balance' 는 결측비율이 많아서 제외\n",
    "\n",
    "이외에도 커피에 대한 description 또한 키워드를 잘 추출해낸다면 활용할 수 있을 것이라 생각됨.\n",
    "\n",
    "- ['description'] -> ['keywords_set']\n",
    "\n",
    "최종적으로 선택한 피처는 ['acidity', 'sweetness', 'body', 'roasting_point', 'keywords_set'] "
   ]
  },
  {
   "cell_type": "code",
   "execution_count": 7,
   "metadata": {},
   "outputs": [],
   "source": [
    "cupping_notes = ['acidity', 'sweetness', 'body', 'roasting_point']\n",
    "use_features = ['acidity', 'sweetness', 'body', 'roasting_point', 'keywords_set'] "
   ]
  },
  {
   "cell_type": "code",
   "execution_count": 8,
   "metadata": {},
   "outputs": [],
   "source": [
    "non_na_items = items[items['aroma'].isna() == False].reset_index(drop=True)"
   ]
  },
  {
   "cell_type": "code",
   "execution_count": 9,
   "metadata": {},
   "outputs": [],
   "source": [
    "x = non_na_items[cupping_notes] / 10\n",
    "y = non_na_items['aroma']\n",
    "sm.add_constant(x)\n",
    "\n",
    "model = sm.OLS(y, x)\n",
    "result = model.fit()"
   ]
  },
  {
   "cell_type": "code",
   "execution_count": 10,
   "metadata": {},
   "outputs": [
    {
     "data": {
      "text/html": [
       "<table class=\"simpletable\">\n",
       "<caption>OLS Regression Results</caption>\n",
       "<tr>\n",
       "  <th>Dep. Variable:</th>          <td>aroma</td>      <th>  R-squared (uncentered):</th>      <td>   0.985</td> \n",
       "</tr>\n",
       "<tr>\n",
       "  <th>Model:</th>                   <td>OLS</td>       <th>  Adj. R-squared (uncentered):</th> <td>   0.985</td> \n",
       "</tr>\n",
       "<tr>\n",
       "  <th>Method:</th>             <td>Least Squares</td>  <th>  F-statistic:       </th>          <td>   2100.</td> \n",
       "</tr>\n",
       "<tr>\n",
       "  <th>Date:</th>             <td>Mon, 31 Jul 2023</td> <th>  Prob (F-statistic):</th>          <td>1.52e-113</td>\n",
       "</tr>\n",
       "<tr>\n",
       "  <th>Time:</th>                 <td>15:39:16</td>     <th>  Log-Likelihood:    </th>          <td> -158.28</td> \n",
       "</tr>\n",
       "<tr>\n",
       "  <th>No. Observations:</th>      <td>   129</td>      <th>  AIC:               </th>          <td>   324.6</td> \n",
       "</tr>\n",
       "<tr>\n",
       "  <th>Df Residuals:</th>          <td>   125</td>      <th>  BIC:               </th>          <td>   336.0</td> \n",
       "</tr>\n",
       "<tr>\n",
       "  <th>Df Model:</th>              <td>     4</td>      <th>                     </th>              <td> </td>    \n",
       "</tr>\n",
       "<tr>\n",
       "  <th>Covariance Type:</th>      <td>nonrobust</td>    <th>                     </th>              <td> </td>    \n",
       "</tr>\n",
       "</table>\n",
       "<table class=\"simpletable\">\n",
       "<tr>\n",
       "         <td></td>           <th>coef</th>     <th>std err</th>      <th>t</th>      <th>P>|t|</th>  <th>[0.025</th>    <th>0.975]</th>  \n",
       "</tr>\n",
       "<tr>\n",
       "  <th>acidity</th>        <td>    3.2463</td> <td>    0.503</td> <td>    6.456</td> <td> 0.000</td> <td>    2.251</td> <td>    4.241</td>\n",
       "</tr>\n",
       "<tr>\n",
       "  <th>sweetness</th>      <td>    3.3778</td> <td>    0.852</td> <td>    3.963</td> <td> 0.000</td> <td>    1.691</td> <td>    5.065</td>\n",
       "</tr>\n",
       "<tr>\n",
       "  <th>body</th>           <td>    2.6496</td> <td>    0.824</td> <td>    3.215</td> <td> 0.002</td> <td>    1.018</td> <td>    4.281</td>\n",
       "</tr>\n",
       "<tr>\n",
       "  <th>roasting_point</th> <td>    1.7953</td> <td>    0.863</td> <td>    2.080</td> <td> 0.040</td> <td>    0.087</td> <td>    3.504</td>\n",
       "</tr>\n",
       "</table>\n",
       "<table class=\"simpletable\">\n",
       "<tr>\n",
       "  <th>Omnibus:</th>       <td> 5.449</td> <th>  Durbin-Watson:     </th> <td>   1.918</td>\n",
       "</tr>\n",
       "<tr>\n",
       "  <th>Prob(Omnibus):</th> <td> 0.066</td> <th>  Jarque-Bera (JB):  </th> <td>   5.161</td>\n",
       "</tr>\n",
       "<tr>\n",
       "  <th>Skew:</th>          <td> 0.487</td> <th>  Prob(JB):          </th> <td>  0.0757</td>\n",
       "</tr>\n",
       "<tr>\n",
       "  <th>Kurtosis:</th>      <td> 3.112</td> <th>  Cond. No.          </th> <td>    19.7</td>\n",
       "</tr>\n",
       "</table><br/><br/>Notes:<br/>[1] R² is computed without centering (uncentered) since the model does not contain a constant.<br/>[2] Standard Errors assume that the covariance matrix of the errors is correctly specified."
      ],
      "text/latex": [
       "\\begin{center}\n",
       "\\begin{tabular}{lclc}\n",
       "\\toprule\n",
       "\\textbf{Dep. Variable:}    &      aroma       & \\textbf{  R-squared (uncentered):}      &     0.985   \\\\\n",
       "\\textbf{Model:}            &       OLS        & \\textbf{  Adj. R-squared (uncentered):} &     0.985   \\\\\n",
       "\\textbf{Method:}           &  Least Squares   & \\textbf{  F-statistic:       }          &     2100.   \\\\\n",
       "\\textbf{Date:}             & Mon, 31 Jul 2023 & \\textbf{  Prob (F-statistic):}          & 1.52e-113   \\\\\n",
       "\\textbf{Time:}             &     15:39:16     & \\textbf{  Log-Likelihood:    }          &   -158.28   \\\\\n",
       "\\textbf{No. Observations:} &         129      & \\textbf{  AIC:               }          &     324.6   \\\\\n",
       "\\textbf{Df Residuals:}     &         125      & \\textbf{  BIC:               }          &     336.0   \\\\\n",
       "\\textbf{Df Model:}         &           4      & \\textbf{                     }          &             \\\\\n",
       "\\textbf{Covariance Type:}  &    nonrobust     & \\textbf{                     }          &             \\\\\n",
       "\\bottomrule\n",
       "\\end{tabular}\n",
       "\\begin{tabular}{lcccccc}\n",
       "                         & \\textbf{coef} & \\textbf{std err} & \\textbf{t} & \\textbf{P$> |$t$|$} & \\textbf{[0.025} & \\textbf{0.975]}  \\\\\n",
       "\\midrule\n",
       "\\textbf{acidity}         &       3.2463  &        0.503     &     6.456  &         0.000        &        2.251    &        4.241     \\\\\n",
       "\\textbf{sweetness}       &       3.3778  &        0.852     &     3.963  &         0.000        &        1.691    &        5.065     \\\\\n",
       "\\textbf{body}            &       2.6496  &        0.824     &     3.215  &         0.002        &        1.018    &        4.281     \\\\\n",
       "\\textbf{roasting\\_point} &       1.7953  &        0.863     &     2.080  &         0.040        &        0.087    &        3.504     \\\\\n",
       "\\bottomrule\n",
       "\\end{tabular}\n",
       "\\begin{tabular}{lclc}\n",
       "\\textbf{Omnibus:}       &  5.449 & \\textbf{  Durbin-Watson:     } &    1.918  \\\\\n",
       "\\textbf{Prob(Omnibus):} &  0.066 & \\textbf{  Jarque-Bera (JB):  } &    5.161  \\\\\n",
       "\\textbf{Skew:}          &  0.487 & \\textbf{  Prob(JB):          } &   0.0757  \\\\\n",
       "\\textbf{Kurtosis:}      &  3.112 & \\textbf{  Cond. No.          } &     19.7  \\\\\n",
       "\\bottomrule\n",
       "\\end{tabular}\n",
       "%\\caption{OLS Regression Results}\n",
       "\\end{center}\n",
       "\n",
       "Notes: \\newline\n",
       " [1] R² is computed without centering (uncentered) since the model does not contain a constant. \\newline\n",
       " [2] Standard Errors assume that the covariance matrix of the errors is correctly specified."
      ],
      "text/plain": [
       "<class 'statsmodels.iolib.summary.Summary'>\n",
       "\"\"\"\n",
       "                                 OLS Regression Results                                \n",
       "=======================================================================================\n",
       "Dep. Variable:                  aroma   R-squared (uncentered):                   0.985\n",
       "Model:                            OLS   Adj. R-squared (uncentered):              0.985\n",
       "Method:                 Least Squares   F-statistic:                              2100.\n",
       "Date:                Mon, 31 Jul 2023   Prob (F-statistic):                   1.52e-113\n",
       "Time:                        15:39:16   Log-Likelihood:                         -158.28\n",
       "No. Observations:                 129   AIC:                                      324.6\n",
       "Df Residuals:                     125   BIC:                                      336.0\n",
       "Df Model:                           4                                                  \n",
       "Covariance Type:            nonrobust                                                  \n",
       "==================================================================================\n",
       "                     coef    std err          t      P>|t|      [0.025      0.975]\n",
       "----------------------------------------------------------------------------------\n",
       "acidity            3.2463      0.503      6.456      0.000       2.251       4.241\n",
       "sweetness          3.3778      0.852      3.963      0.000       1.691       5.065\n",
       "body               2.6496      0.824      3.215      0.002       1.018       4.281\n",
       "roasting_point     1.7953      0.863      2.080      0.040       0.087       3.504\n",
       "==============================================================================\n",
       "Omnibus:                        5.449   Durbin-Watson:                   1.918\n",
       "Prob(Omnibus):                  0.066   Jarque-Bera (JB):                5.161\n",
       "Skew:                           0.487   Prob(JB):                       0.0757\n",
       "Kurtosis:                       3.112   Cond. No.                         19.7\n",
       "==============================================================================\n",
       "\n",
       "Notes:\n",
       "[1] R² is computed without centering (uncentered) since the model does not contain a constant.\n",
       "[2] Standard Errors assume that the covariance matrix of the errors is correctly specified.\n",
       "\"\"\""
      ]
     },
     "execution_count": 10,
     "metadata": {},
     "output_type": "execute_result"
    }
   ],
   "source": [
    "result.summary()"
   ]
  },
  {
   "cell_type": "markdown",
   "metadata": {},
   "source": [
    "p-value 확인 결과 모든 커핑노트 변수들이 통계적으로 유의미하다고 할 수 있음."
   ]
  },
  {
   "cell_type": "markdown",
   "metadata": {},
   "source": [
    "### Description 변수 전처리"
   ]
  },
  {
   "cell_type": "code",
   "execution_count": 11,
   "metadata": {},
   "outputs": [
    {
     "data": {
      "text/html": [
       "<div>\n",
       "<style scoped>\n",
       "    .dataframe tbody tr th:only-of-type {\n",
       "        vertical-align: middle;\n",
       "    }\n",
       "\n",
       "    .dataframe tbody tr th {\n",
       "        vertical-align: top;\n",
       "    }\n",
       "\n",
       "    .dataframe thead th {\n",
       "        text-align: right;\n",
       "    }\n",
       "</style>\n",
       "<table border=\"1\" class=\"dataframe\">\n",
       "  <thead>\n",
       "    <tr style=\"text-align: right;\">\n",
       "      <th></th>\n",
       "      <th>가공</th>\n",
       "      <th>가미</th>\n",
       "      <th>갈색</th>\n",
       "      <th>감귤</th>\n",
       "      <th>감칠맛</th>\n",
       "      <th>강조</th>\n",
       "      <th>개성</th>\n",
       "      <th>건자두</th>\n",
       "      <th>건포도</th>\n",
       "      <th>견과</th>\n",
       "      <th>...</th>\n",
       "      <th>향미</th>\n",
       "      <th>헤이즐넛</th>\n",
       "      <th>호두</th>\n",
       "      <th>호불호</th>\n",
       "      <th>홍차</th>\n",
       "      <th>화산</th>\n",
       "      <th>화이트</th>\n",
       "      <th>황설탕</th>\n",
       "      <th>후미</th>\n",
       "      <th>휴식</th>\n",
       "    </tr>\n",
       "  </thead>\n",
       "  <tbody>\n",
       "    <tr>\n",
       "      <th>0</th>\n",
       "      <td>0</td>\n",
       "      <td>0</td>\n",
       "      <td>0</td>\n",
       "      <td>0</td>\n",
       "      <td>0</td>\n",
       "      <td>0</td>\n",
       "      <td>0</td>\n",
       "      <td>0</td>\n",
       "      <td>0</td>\n",
       "      <td>1</td>\n",
       "      <td>...</td>\n",
       "      <td>0</td>\n",
       "      <td>0</td>\n",
       "      <td>0</td>\n",
       "      <td>0</td>\n",
       "      <td>0</td>\n",
       "      <td>0</td>\n",
       "      <td>0</td>\n",
       "      <td>0</td>\n",
       "      <td>1</td>\n",
       "      <td>0</td>\n",
       "    </tr>\n",
       "    <tr>\n",
       "      <th>1</th>\n",
       "      <td>0</td>\n",
       "      <td>0</td>\n",
       "      <td>0</td>\n",
       "      <td>0</td>\n",
       "      <td>0</td>\n",
       "      <td>0</td>\n",
       "      <td>0</td>\n",
       "      <td>0</td>\n",
       "      <td>0</td>\n",
       "      <td>0</td>\n",
       "      <td>...</td>\n",
       "      <td>0</td>\n",
       "      <td>0</td>\n",
       "      <td>0</td>\n",
       "      <td>0</td>\n",
       "      <td>0</td>\n",
       "      <td>0</td>\n",
       "      <td>0</td>\n",
       "      <td>0</td>\n",
       "      <td>0</td>\n",
       "      <td>0</td>\n",
       "    </tr>\n",
       "    <tr>\n",
       "      <th>2</th>\n",
       "      <td>0</td>\n",
       "      <td>0</td>\n",
       "      <td>0</td>\n",
       "      <td>0</td>\n",
       "      <td>0</td>\n",
       "      <td>0</td>\n",
       "      <td>0</td>\n",
       "      <td>0</td>\n",
       "      <td>0</td>\n",
       "      <td>0</td>\n",
       "      <td>...</td>\n",
       "      <td>0</td>\n",
       "      <td>0</td>\n",
       "      <td>0</td>\n",
       "      <td>0</td>\n",
       "      <td>0</td>\n",
       "      <td>0</td>\n",
       "      <td>0</td>\n",
       "      <td>0</td>\n",
       "      <td>0</td>\n",
       "      <td>0</td>\n",
       "    </tr>\n",
       "    <tr>\n",
       "      <th>3</th>\n",
       "      <td>0</td>\n",
       "      <td>0</td>\n",
       "      <td>0</td>\n",
       "      <td>0</td>\n",
       "      <td>0</td>\n",
       "      <td>0</td>\n",
       "      <td>0</td>\n",
       "      <td>0</td>\n",
       "      <td>0</td>\n",
       "      <td>1</td>\n",
       "      <td>...</td>\n",
       "      <td>0</td>\n",
       "      <td>0</td>\n",
       "      <td>0</td>\n",
       "      <td>0</td>\n",
       "      <td>0</td>\n",
       "      <td>0</td>\n",
       "      <td>0</td>\n",
       "      <td>0</td>\n",
       "      <td>0</td>\n",
       "      <td>0</td>\n",
       "    </tr>\n",
       "    <tr>\n",
       "      <th>4</th>\n",
       "      <td>0</td>\n",
       "      <td>0</td>\n",
       "      <td>0</td>\n",
       "      <td>0</td>\n",
       "      <td>0</td>\n",
       "      <td>0</td>\n",
       "      <td>0</td>\n",
       "      <td>0</td>\n",
       "      <td>0</td>\n",
       "      <td>0</td>\n",
       "      <td>...</td>\n",
       "      <td>0</td>\n",
       "      <td>0</td>\n",
       "      <td>0</td>\n",
       "      <td>0</td>\n",
       "      <td>0</td>\n",
       "      <td>0</td>\n",
       "      <td>0</td>\n",
       "      <td>0</td>\n",
       "      <td>0</td>\n",
       "      <td>0</td>\n",
       "    </tr>\n",
       "    <tr>\n",
       "      <th>...</th>\n",
       "      <td>...</td>\n",
       "      <td>...</td>\n",
       "      <td>...</td>\n",
       "      <td>...</td>\n",
       "      <td>...</td>\n",
       "      <td>...</td>\n",
       "      <td>...</td>\n",
       "      <td>...</td>\n",
       "      <td>...</td>\n",
       "      <td>...</td>\n",
       "      <td>...</td>\n",
       "      <td>...</td>\n",
       "      <td>...</td>\n",
       "      <td>...</td>\n",
       "      <td>...</td>\n",
       "      <td>...</td>\n",
       "      <td>...</td>\n",
       "      <td>...</td>\n",
       "      <td>...</td>\n",
       "      <td>...</td>\n",
       "      <td>...</td>\n",
       "    </tr>\n",
       "    <tr>\n",
       "      <th>419</th>\n",
       "      <td>0</td>\n",
       "      <td>0</td>\n",
       "      <td>0</td>\n",
       "      <td>0</td>\n",
       "      <td>0</td>\n",
       "      <td>0</td>\n",
       "      <td>0</td>\n",
       "      <td>0</td>\n",
       "      <td>0</td>\n",
       "      <td>0</td>\n",
       "      <td>...</td>\n",
       "      <td>0</td>\n",
       "      <td>0</td>\n",
       "      <td>0</td>\n",
       "      <td>0</td>\n",
       "      <td>1</td>\n",
       "      <td>0</td>\n",
       "      <td>0</td>\n",
       "      <td>0</td>\n",
       "      <td>0</td>\n",
       "      <td>0</td>\n",
       "    </tr>\n",
       "    <tr>\n",
       "      <th>420</th>\n",
       "      <td>0</td>\n",
       "      <td>0</td>\n",
       "      <td>0</td>\n",
       "      <td>0</td>\n",
       "      <td>0</td>\n",
       "      <td>0</td>\n",
       "      <td>0</td>\n",
       "      <td>0</td>\n",
       "      <td>0</td>\n",
       "      <td>1</td>\n",
       "      <td>...</td>\n",
       "      <td>0</td>\n",
       "      <td>1</td>\n",
       "      <td>0</td>\n",
       "      <td>0</td>\n",
       "      <td>0</td>\n",
       "      <td>0</td>\n",
       "      <td>0</td>\n",
       "      <td>0</td>\n",
       "      <td>0</td>\n",
       "      <td>0</td>\n",
       "    </tr>\n",
       "    <tr>\n",
       "      <th>421</th>\n",
       "      <td>0</td>\n",
       "      <td>0</td>\n",
       "      <td>0</td>\n",
       "      <td>0</td>\n",
       "      <td>0</td>\n",
       "      <td>0</td>\n",
       "      <td>0</td>\n",
       "      <td>0</td>\n",
       "      <td>0</td>\n",
       "      <td>0</td>\n",
       "      <td>...</td>\n",
       "      <td>0</td>\n",
       "      <td>0</td>\n",
       "      <td>0</td>\n",
       "      <td>0</td>\n",
       "      <td>0</td>\n",
       "      <td>0</td>\n",
       "      <td>0</td>\n",
       "      <td>0</td>\n",
       "      <td>0</td>\n",
       "      <td>0</td>\n",
       "    </tr>\n",
       "    <tr>\n",
       "      <th>422</th>\n",
       "      <td>0</td>\n",
       "      <td>0</td>\n",
       "      <td>0</td>\n",
       "      <td>0</td>\n",
       "      <td>0</td>\n",
       "      <td>0</td>\n",
       "      <td>0</td>\n",
       "      <td>0</td>\n",
       "      <td>0</td>\n",
       "      <td>0</td>\n",
       "      <td>...</td>\n",
       "      <td>1</td>\n",
       "      <td>0</td>\n",
       "      <td>0</td>\n",
       "      <td>0</td>\n",
       "      <td>0</td>\n",
       "      <td>0</td>\n",
       "      <td>0</td>\n",
       "      <td>0</td>\n",
       "      <td>0</td>\n",
       "      <td>0</td>\n",
       "    </tr>\n",
       "    <tr>\n",
       "      <th>423</th>\n",
       "      <td>0</td>\n",
       "      <td>0</td>\n",
       "      <td>0</td>\n",
       "      <td>0</td>\n",
       "      <td>0</td>\n",
       "      <td>0</td>\n",
       "      <td>0</td>\n",
       "      <td>0</td>\n",
       "      <td>0</td>\n",
       "      <td>0</td>\n",
       "      <td>...</td>\n",
       "      <td>0</td>\n",
       "      <td>0</td>\n",
       "      <td>0</td>\n",
       "      <td>0</td>\n",
       "      <td>0</td>\n",
       "      <td>0</td>\n",
       "      <td>0</td>\n",
       "      <td>0</td>\n",
       "      <td>0</td>\n",
       "      <td>0</td>\n",
       "    </tr>\n",
       "  </tbody>\n",
       "</table>\n",
       "<p>424 rows × 219 columns</p>\n",
       "</div>"
      ],
      "text/plain": [
       "     가공  가미  갈색  감귤  감칠맛  강조  개성  건자두  건포도  견과  ...  향미  헤이즐넛  호두  호불호  홍차  \\\n",
       "0     0   0   0   0    0   0   0    0    0   1  ...   0     0   0    0   0   \n",
       "1     0   0   0   0    0   0   0    0    0   0  ...   0     0   0    0   0   \n",
       "2     0   0   0   0    0   0   0    0    0   0  ...   0     0   0    0   0   \n",
       "3     0   0   0   0    0   0   0    0    0   1  ...   0     0   0    0   0   \n",
       "4     0   0   0   0    0   0   0    0    0   0  ...   0     0   0    0   0   \n",
       "..   ..  ..  ..  ..  ...  ..  ..  ...  ...  ..  ...  ..   ...  ..  ...  ..   \n",
       "419   0   0   0   0    0   0   0    0    0   0  ...   0     0   0    0   1   \n",
       "420   0   0   0   0    0   0   0    0    0   1  ...   0     1   0    0   0   \n",
       "421   0   0   0   0    0   0   0    0    0   0  ...   0     0   0    0   0   \n",
       "422   0   0   0   0    0   0   0    0    0   0  ...   1     0   0    0   0   \n",
       "423   0   0   0   0    0   0   0    0    0   0  ...   0     0   0    0   0   \n",
       "\n",
       "     화산  화이트  황설탕  후미  휴식  \n",
       "0     0    0    0   1   0  \n",
       "1     0    0    0   0   0  \n",
       "2     0    0    0   0   0  \n",
       "3     0    0    0   0   0  \n",
       "4     0    0    0   0   0  \n",
       "..   ..  ...  ...  ..  ..  \n",
       "419   0    0    0   0   0  \n",
       "420   0    0    0   0   0  \n",
       "421   0    0    0   0   0  \n",
       "422   0    0    0   0   0  \n",
       "423   0    0    0   0   0  \n",
       "\n",
       "[424 rows x 219 columns]"
      ]
     },
     "execution_count": 11,
     "metadata": {},
     "output_type": "execute_result"
    }
   ],
   "source": [
    "# 집합에 있는 원소들을 컬럼으로 가지는 원핫 인코딩\n",
    "all_keywords = sorted(list(set.union(*items['keywords_set'])))\n",
    "df_encoded = pd.DataFrame(0, index=items.index, columns=all_keywords)\n",
    "\n",
    "for idx, keywords in enumerate(items['keywords_set']):\n",
    "    for keyword in keywords:\n",
    "        df_encoded.loc[idx, keyword] = 1\n",
    "\n",
    "df_encoded"
   ]
  },
  {
   "cell_type": "markdown",
   "metadata": {},
   "source": [
    "각 키워드의 출현 빈도를 계산해보자."
   ]
  },
  {
   "cell_type": "code",
   "execution_count": 12,
   "metadata": {},
   "outputs": [
    {
     "data": {
      "text/plain": [
       "단맛        43.87\n",
       "산미        28.07\n",
       "초콜릿       20.05\n",
       "향미        17.92\n",
       "바디        15.57\n",
       "          ...  \n",
       "기억         0.71\n",
       "식물학        0.71\n",
       "그린         0.71\n",
       "과정         0.71\n",
       "달콤쌉싸름한     0.71\n",
       "Length: 219, dtype: float64"
      ]
     },
     "execution_count": 12,
     "metadata": {},
     "output_type": "execute_result"
    }
   ],
   "source": [
    "keyword_freq = round(df_encoded.sum() / len(df_encoded) * 100, 2).sort_values(ascending=False)\n",
    "keyword_freq"
   ]
  },
  {
   "cell_type": "code",
   "execution_count": 13,
   "metadata": {},
   "outputs": [
    {
     "data": {
      "text/plain": [
       "22"
      ]
     },
     "execution_count": 13,
     "metadata": {},
     "output_type": "execute_result"
    }
   ],
   "source": [
    "# 10% 이상 출현\n",
    "sum(keyword_freq >= 5)"
   ]
  },
  {
   "cell_type": "markdown",
   "metadata": {},
   "source": [
    "최소 전체 아이템 중 5% 이상은 출현해야 자주 사용되는 키워드라고 할 수 있다고 가정하자.\n",
    "\n",
    "따라서 해당 아이템들만 사용한다."
   ]
  },
  {
   "cell_type": "code",
   "execution_count": 14,
   "metadata": {},
   "outputs": [
    {
     "data": {
      "text/html": [
       "<div>\n",
       "<style scoped>\n",
       "    .dataframe tbody tr th:only-of-type {\n",
       "        vertical-align: middle;\n",
       "    }\n",
       "\n",
       "    .dataframe tbody tr th {\n",
       "        vertical-align: top;\n",
       "    }\n",
       "\n",
       "    .dataframe thead th {\n",
       "        text-align: right;\n",
       "    }\n",
       "</style>\n",
       "<table border=\"1\" class=\"dataframe\">\n",
       "  <thead>\n",
       "    <tr style=\"text-align: right;\">\n",
       "      <th></th>\n",
       "      <th>단맛</th>\n",
       "      <th>산미</th>\n",
       "      <th>초콜릿</th>\n",
       "      <th>향미</th>\n",
       "      <th>바디</th>\n",
       "      <th>견과</th>\n",
       "      <th>블렌드</th>\n",
       "      <th>다크</th>\n",
       "      <th>과일</th>\n",
       "      <th>여운</th>\n",
       "      <th>...</th>\n",
       "      <th>블렌딩</th>\n",
       "      <th>조화</th>\n",
       "      <th>매력</th>\n",
       "      <th>쌉싸름</th>\n",
       "      <th>오렌지</th>\n",
       "      <th>카라멜</th>\n",
       "      <th>카페인</th>\n",
       "      <th>아몬드</th>\n",
       "      <th>바디감</th>\n",
       "      <th>로스팅</th>\n",
       "    </tr>\n",
       "  </thead>\n",
       "  <tbody>\n",
       "    <tr>\n",
       "      <th>0</th>\n",
       "      <td>0</td>\n",
       "      <td>0</td>\n",
       "      <td>1</td>\n",
       "      <td>0</td>\n",
       "      <td>0</td>\n",
       "      <td>1</td>\n",
       "      <td>0</td>\n",
       "      <td>0</td>\n",
       "      <td>0</td>\n",
       "      <td>0</td>\n",
       "      <td>...</td>\n",
       "      <td>0</td>\n",
       "      <td>0</td>\n",
       "      <td>0</td>\n",
       "      <td>0</td>\n",
       "      <td>0</td>\n",
       "      <td>0</td>\n",
       "      <td>0</td>\n",
       "      <td>0</td>\n",
       "      <td>0</td>\n",
       "      <td>0</td>\n",
       "    </tr>\n",
       "    <tr>\n",
       "      <th>1</th>\n",
       "      <td>1</td>\n",
       "      <td>0</td>\n",
       "      <td>0</td>\n",
       "      <td>0</td>\n",
       "      <td>1</td>\n",
       "      <td>0</td>\n",
       "      <td>0</td>\n",
       "      <td>1</td>\n",
       "      <td>0</td>\n",
       "      <td>1</td>\n",
       "      <td>...</td>\n",
       "      <td>0</td>\n",
       "      <td>0</td>\n",
       "      <td>0</td>\n",
       "      <td>0</td>\n",
       "      <td>0</td>\n",
       "      <td>0</td>\n",
       "      <td>0</td>\n",
       "      <td>0</td>\n",
       "      <td>0</td>\n",
       "      <td>0</td>\n",
       "    </tr>\n",
       "    <tr>\n",
       "      <th>2</th>\n",
       "      <td>1</td>\n",
       "      <td>1</td>\n",
       "      <td>0</td>\n",
       "      <td>0</td>\n",
       "      <td>0</td>\n",
       "      <td>0</td>\n",
       "      <td>1</td>\n",
       "      <td>0</td>\n",
       "      <td>0</td>\n",
       "      <td>0</td>\n",
       "      <td>...</td>\n",
       "      <td>0</td>\n",
       "      <td>0</td>\n",
       "      <td>0</td>\n",
       "      <td>0</td>\n",
       "      <td>0</td>\n",
       "      <td>0</td>\n",
       "      <td>0</td>\n",
       "      <td>0</td>\n",
       "      <td>0</td>\n",
       "      <td>0</td>\n",
       "    </tr>\n",
       "    <tr>\n",
       "      <th>3</th>\n",
       "      <td>0</td>\n",
       "      <td>1</td>\n",
       "      <td>0</td>\n",
       "      <td>0</td>\n",
       "      <td>0</td>\n",
       "      <td>1</td>\n",
       "      <td>1</td>\n",
       "      <td>0</td>\n",
       "      <td>0</td>\n",
       "      <td>0</td>\n",
       "      <td>...</td>\n",
       "      <td>0</td>\n",
       "      <td>0</td>\n",
       "      <td>0</td>\n",
       "      <td>0</td>\n",
       "      <td>0</td>\n",
       "      <td>0</td>\n",
       "      <td>0</td>\n",
       "      <td>0</td>\n",
       "      <td>0</td>\n",
       "      <td>0</td>\n",
       "    </tr>\n",
       "    <tr>\n",
       "      <th>4</th>\n",
       "      <td>1</td>\n",
       "      <td>0</td>\n",
       "      <td>0</td>\n",
       "      <td>0</td>\n",
       "      <td>0</td>\n",
       "      <td>0</td>\n",
       "      <td>1</td>\n",
       "      <td>0</td>\n",
       "      <td>0</td>\n",
       "      <td>0</td>\n",
       "      <td>...</td>\n",
       "      <td>1</td>\n",
       "      <td>1</td>\n",
       "      <td>0</td>\n",
       "      <td>0</td>\n",
       "      <td>0</td>\n",
       "      <td>0</td>\n",
       "      <td>0</td>\n",
       "      <td>0</td>\n",
       "      <td>0</td>\n",
       "      <td>0</td>\n",
       "    </tr>\n",
       "  </tbody>\n",
       "</table>\n",
       "<p>5 rows × 22 columns</p>\n",
       "</div>"
      ],
      "text/plain": [
       "   단맛  산미  초콜릿  향미  바디  견과  블렌드  다크  과일  여운  ...  블렌딩  조화  매력  쌉싸름  오렌지  카라멜  \\\n",
       "0   0   0    1   0   0   1    0   0   0   0  ...    0   0   0    0    0    0   \n",
       "1   1   0    0   0   1   0    0   1   0   1  ...    0   0   0    0    0    0   \n",
       "2   1   1    0   0   0   0    1   0   0   0  ...    0   0   0    0    0    0   \n",
       "3   0   1    0   0   0   1    1   0   0   0  ...    0   0   0    0    0    0   \n",
       "4   1   0    0   0   0   0    1   0   0   0  ...    1   1   0    0    0    0   \n",
       "\n",
       "   카페인  아몬드  바디감  로스팅  \n",
       "0    0    0    0    0  \n",
       "1    0    0    0    0  \n",
       "2    0    0    0    0  \n",
       "3    0    0    0    0  \n",
       "4    0    0    0    0  \n",
       "\n",
       "[5 rows x 22 columns]"
      ]
     },
     "execution_count": 14,
     "metadata": {},
     "output_type": "execute_result"
    }
   ],
   "source": [
    "df_encoded = df_encoded[keyword_freq[keyword_freq >= 5].keys()]\n",
    "df_encoded.head()"
   ]
  },
  {
   "cell_type": "markdown",
   "metadata": {},
   "source": [
    "### 최종 사용 변수 통합"
   ]
  },
  {
   "cell_type": "markdown",
   "metadata": {},
   "source": [
    "회귀 모형의 pvalue 를 통해 변수를 선택해보자."
   ]
  },
  {
   "cell_type": "code",
   "execution_count": 15,
   "metadata": {},
   "outputs": [],
   "source": [
    "df = pd.concat([items[cupping_notes + ['aroma']] / 10, df_encoded], axis=1)"
   ]
  },
  {
   "cell_type": "code",
   "execution_count": 16,
   "metadata": {},
   "outputs": [
    {
     "data": {
      "text/html": [
       "<div>\n",
       "<style scoped>\n",
       "    .dataframe tbody tr th:only-of-type {\n",
       "        vertical-align: middle;\n",
       "    }\n",
       "\n",
       "    .dataframe tbody tr th {\n",
       "        vertical-align: top;\n",
       "    }\n",
       "\n",
       "    .dataframe thead th {\n",
       "        text-align: right;\n",
       "    }\n",
       "</style>\n",
       "<table border=\"1\" class=\"dataframe\">\n",
       "  <thead>\n",
       "    <tr style=\"text-align: right;\">\n",
       "      <th></th>\n",
       "      <th>acidity</th>\n",
       "      <th>sweetness</th>\n",
       "      <th>body</th>\n",
       "      <th>roasting_point</th>\n",
       "      <th>aroma</th>\n",
       "      <th>단맛</th>\n",
       "      <th>산미</th>\n",
       "      <th>초콜릿</th>\n",
       "      <th>향미</th>\n",
       "      <th>바디</th>\n",
       "      <th>...</th>\n",
       "      <th>블렌딩</th>\n",
       "      <th>조화</th>\n",
       "      <th>매력</th>\n",
       "      <th>쌉싸름</th>\n",
       "      <th>오렌지</th>\n",
       "      <th>카라멜</th>\n",
       "      <th>카페인</th>\n",
       "      <th>아몬드</th>\n",
       "      <th>바디감</th>\n",
       "      <th>로스팅</th>\n",
       "    </tr>\n",
       "  </thead>\n",
       "  <tbody>\n",
       "    <tr>\n",
       "      <th>0</th>\n",
       "      <td>0.2</td>\n",
       "      <td>0.8</td>\n",
       "      <td>1.0</td>\n",
       "      <td>0.6</td>\n",
       "      <td>NaN</td>\n",
       "      <td>0</td>\n",
       "      <td>0</td>\n",
       "      <td>1</td>\n",
       "      <td>0</td>\n",
       "      <td>0</td>\n",
       "      <td>...</td>\n",
       "      <td>0</td>\n",
       "      <td>0</td>\n",
       "      <td>0</td>\n",
       "      <td>0</td>\n",
       "      <td>0</td>\n",
       "      <td>0</td>\n",
       "      <td>0</td>\n",
       "      <td>0</td>\n",
       "      <td>0</td>\n",
       "      <td>0</td>\n",
       "    </tr>\n",
       "    <tr>\n",
       "      <th>1</th>\n",
       "      <td>0.4</td>\n",
       "      <td>1.0</td>\n",
       "      <td>1.0</td>\n",
       "      <td>0.6</td>\n",
       "      <td>NaN</td>\n",
       "      <td>1</td>\n",
       "      <td>0</td>\n",
       "      <td>0</td>\n",
       "      <td>0</td>\n",
       "      <td>1</td>\n",
       "      <td>...</td>\n",
       "      <td>0</td>\n",
       "      <td>0</td>\n",
       "      <td>0</td>\n",
       "      <td>0</td>\n",
       "      <td>0</td>\n",
       "      <td>0</td>\n",
       "      <td>0</td>\n",
       "      <td>0</td>\n",
       "      <td>0</td>\n",
       "      <td>0</td>\n",
       "    </tr>\n",
       "    <tr>\n",
       "      <th>2</th>\n",
       "      <td>0.8</td>\n",
       "      <td>0.8</td>\n",
       "      <td>0.6</td>\n",
       "      <td>0.5</td>\n",
       "      <td>NaN</td>\n",
       "      <td>1</td>\n",
       "      <td>1</td>\n",
       "      <td>0</td>\n",
       "      <td>0</td>\n",
       "      <td>0</td>\n",
       "      <td>...</td>\n",
       "      <td>0</td>\n",
       "      <td>0</td>\n",
       "      <td>0</td>\n",
       "      <td>0</td>\n",
       "      <td>0</td>\n",
       "      <td>0</td>\n",
       "      <td>0</td>\n",
       "      <td>0</td>\n",
       "      <td>0</td>\n",
       "      <td>0</td>\n",
       "    </tr>\n",
       "    <tr>\n",
       "      <th>3</th>\n",
       "      <td>0.4</td>\n",
       "      <td>0.6</td>\n",
       "      <td>0.8</td>\n",
       "      <td>0.6</td>\n",
       "      <td>NaN</td>\n",
       "      <td>0</td>\n",
       "      <td>1</td>\n",
       "      <td>0</td>\n",
       "      <td>0</td>\n",
       "      <td>0</td>\n",
       "      <td>...</td>\n",
       "      <td>0</td>\n",
       "      <td>0</td>\n",
       "      <td>0</td>\n",
       "      <td>0</td>\n",
       "      <td>0</td>\n",
       "      <td>0</td>\n",
       "      <td>0</td>\n",
       "      <td>0</td>\n",
       "      <td>0</td>\n",
       "      <td>0</td>\n",
       "    </tr>\n",
       "    <tr>\n",
       "      <th>4</th>\n",
       "      <td>0.4</td>\n",
       "      <td>0.8</td>\n",
       "      <td>0.8</td>\n",
       "      <td>0.6</td>\n",
       "      <td>NaN</td>\n",
       "      <td>1</td>\n",
       "      <td>0</td>\n",
       "      <td>0</td>\n",
       "      <td>0</td>\n",
       "      <td>0</td>\n",
       "      <td>...</td>\n",
       "      <td>1</td>\n",
       "      <td>1</td>\n",
       "      <td>0</td>\n",
       "      <td>0</td>\n",
       "      <td>0</td>\n",
       "      <td>0</td>\n",
       "      <td>0</td>\n",
       "      <td>0</td>\n",
       "      <td>0</td>\n",
       "      <td>0</td>\n",
       "    </tr>\n",
       "  </tbody>\n",
       "</table>\n",
       "<p>5 rows × 27 columns</p>\n",
       "</div>"
      ],
      "text/plain": [
       "   acidity  sweetness  body  roasting_point  aroma  단맛  산미  초콜릿  향미  바디  ...  \\\n",
       "0      0.2        0.8   1.0             0.6    NaN   0   0    1   0   0  ...   \n",
       "1      0.4        1.0   1.0             0.6    NaN   1   0    0   0   1  ...   \n",
       "2      0.8        0.8   0.6             0.5    NaN   1   1    0   0   0  ...   \n",
       "3      0.4        0.6   0.8             0.6    NaN   0   1    0   0   0  ...   \n",
       "4      0.4        0.8   0.8             0.6    NaN   1   0    0   0   0  ...   \n",
       "\n",
       "   블렌딩  조화  매력  쌉싸름  오렌지  카라멜  카페인  아몬드  바디감  로스팅  \n",
       "0    0   0   0    0    0    0    0    0    0    0  \n",
       "1    0   0   0    0    0    0    0    0    0    0  \n",
       "2    0   0   0    0    0    0    0    0    0    0  \n",
       "3    0   0   0    0    0    0    0    0    0    0  \n",
       "4    1   1   0    0    0    0    0    0    0    0  \n",
       "\n",
       "[5 rows x 27 columns]"
      ]
     },
     "execution_count": 16,
     "metadata": {},
     "output_type": "execute_result"
    }
   ],
   "source": [
    "df.head()"
   ]
  },
  {
   "cell_type": "code",
   "execution_count": 17,
   "metadata": {},
   "outputs": [],
   "source": [
    "non_na_idx = items[items['aroma'].isna()==False].index\n",
    "non_na_df = df.iloc[non_na_idx, :]"
   ]
  },
  {
   "cell_type": "code",
   "execution_count": 18,
   "metadata": {},
   "outputs": [],
   "source": [
    "x = non_na_df.drop(columns='aroma')\n",
    "y = non_na_df['aroma']\n",
    "sm.add_constant(x)\n",
    "\n",
    "model = sm.OLS(y, x)\n",
    "result = model.fit()"
   ]
  },
  {
   "cell_type": "code",
   "execution_count": 19,
   "metadata": {},
   "outputs": [
    {
     "name": "stdout",
     "output_type": "stream",
     "text": [
      "['acidity', 'sweetness', 'body', 'roasting_point', '매력', '로스팅']\n"
     ]
    }
   ],
   "source": [
    "pvalue_features = result.pvalues[result.pvalues <= 0.05].keys().tolist()\n",
    "print(pvalue_features)"
   ]
  },
  {
   "cell_type": "code",
   "execution_count": 20,
   "metadata": {},
   "outputs": [
    {
     "data": {
      "text/plain": [
       "6"
      ]
     },
     "execution_count": 20,
     "metadata": {},
     "output_type": "execute_result"
    }
   ],
   "source": [
    "len(pvalue_features)"
   ]
  },
  {
   "cell_type": "markdown",
   "metadata": {},
   "source": [
    "feature importance 를 통해 변수를 선택해보자."
   ]
  },
  {
   "cell_type": "code",
   "execution_count": 21,
   "metadata": {},
   "outputs": [],
   "source": [
    "na_idx = items[items['aroma'].isna()].index\n",
    "na_df = df.iloc[na_idx, :]"
   ]
  },
  {
   "cell_type": "code",
   "execution_count": 22,
   "metadata": {},
   "outputs": [],
   "source": [
    "tr_x, val_x, tr_y, val_y = train_test_split(non_na_df.drop(columns='aroma'), non_na_df['aroma'], random_state=42)\n",
    "\n",
    "te_x = na_df.drop(columns='aroma')\n",
    "te_y = na_df['aroma']"
   ]
  },
  {
   "cell_type": "code",
   "execution_count": 23,
   "metadata": {},
   "outputs": [
    {
     "name": "stderr",
     "output_type": "stream",
     "text": [
      "/opt/ml/.cache/pypoetry/virtualenvs/recommendation-modeling-A65FklOr-py3.9/lib/python3.9/site-packages/lightgbm/engine.py:172: UserWarning: Found `n_estimators` in params. Will use it instead of argument\n",
      "  _log_warning(f\"Found `{alias}` in params. Will use it instead of argument\")\n"
     ]
    },
    {
     "data": {
      "text/plain": [
       "<catboost.core.CatBoostRegressor at 0x7f274e5c7fa0>"
      ]
     },
     "execution_count": 23,
     "metadata": {},
     "output_type": "execute_result"
    }
   ],
   "source": [
    "lgb_dataset = lgb.Dataset(data=tr_x, label=tr_y)\n",
    "lgb_params = {\n",
    "    'n_estimators': 100,\n",
    "    'objective':'regression',\n",
    "    'boosting_type':'gbdt',\n",
    "    'seed':42,\n",
    "    'verbose': -1,\n",
    "    }\n",
    "\n",
    "lgb_model = lgb.train(params=lgb_params, train_set=lgb_dataset)\n",
    "\n",
    "rf_model = RandomForestRegressor(n_estimators=100, random_state=42)\n",
    "rf_model.fit(tr_x, tr_y)\n",
    "\n",
    "cb_model = CatBoostRegressor(iterations=100, task_type=\"GPU\", devices='0:1', random_seed=42)\n",
    "cb_model.fit(tr_x, tr_y, verbose=False)"
   ]
  },
  {
   "cell_type": "code",
   "execution_count": 24,
   "metadata": {},
   "outputs": [
    {
     "name": "stdout",
     "output_type": "stream",
     "text": [
      "lgbm: 0.004972379413867579\n",
      "randomforest: 0.003011303030303023\n",
      "cbm: 0.004126095194113688\n"
     ]
    }
   ],
   "source": [
    "lgb_pred = lgb_model.predict(val_x)\n",
    "rf_pred = rf_model.predict(val_x)\n",
    "cb_pred = cb_model.predict(val_x)\n",
    "\n",
    "print(\"lgbm:\", mean_squared_error(val_y, lgb_pred))\n",
    "print(\"randomforest:\", mean_squared_error(val_y, rf_pred))\n",
    "print(\"cbm:\", mean_squared_error(val_y, cb_pred))"
   ]
  },
  {
   "cell_type": "markdown",
   "metadata": {},
   "source": [
    "RF model 성능이 조금 더 좋음"
   ]
  },
  {
   "cell_type": "code",
   "execution_count": 25,
   "metadata": {},
   "outputs": [
    {
     "data": {
      "image/png": "[encoded data removed]",
      "text/plain": [
       "<Figure size 640x480 with 1 Axes>"
      ]
     },
     "metadata": {},
     "output_type": "display_data"
    }
   ],
   "source": [
    "plt.plot(val_y.values, label='real')\n",
    "plt.plot(lgb_pred, label='lgb_pred', alpha=0.7)\n",
    "plt.plot(rf_pred, label='rf_pred', alpha=0.7)\n",
    "plt.plot(cb_pred, label='cb_pred', alpha=0.7)\n",
    "plt.legend()\n",
    "plt.show()"
   ]
  },
  {
   "cell_type": "markdown",
   "metadata": {},
   "source": [
    "이상치를 잘 맞추지 못하는 것 빼고는 괜찮은 것 같음 (사실 이상치를 잘 안 맞춰도 되긴 함)"
   ]
  },
  {
   "cell_type": "markdown",
   "metadata": {},
   "source": [
    "### model importance"
   ]
  },
  {
   "cell_type": "code",
   "execution_count": 26,
   "metadata": {},
   "outputs": [],
   "source": [
    "rf_feature_importance = rf_model.feature_importances_\n",
    "rf_top_features_idx = rf_feature_importance.argsort()[-len(pvalue_features):][::-1]\n",
    "rf_top_features = tr_x.columns[rf_top_features_idx].tolist()"
   ]
  },
  {
   "cell_type": "code",
   "execution_count": 27,
   "metadata": {},
   "outputs": [
    {
     "name": "stdout",
     "output_type": "stream",
     "text": [
      "['acidity', 'body', 'sweetness', 'roasting_point', '블렌딩', '로스팅']\n"
     ]
    }
   ],
   "source": [
    "print(rf_top_features)"
   ]
  },
  {
   "cell_type": "markdown",
   "metadata": {},
   "source": [
    "### permutation importance"
   ]
  },
  {
   "cell_type": "code",
   "execution_count": 28,
   "metadata": {},
   "outputs": [],
   "source": [
    "rf_perm_importance = permutation_importance(rf_model, val_x, val_y, n_repeats=50, random_state=42)"
   ]
  },
  {
   "cell_type": "code",
   "execution_count": 29,
   "metadata": {},
   "outputs": [],
   "source": [
    "rf_perm_top_features_idx = rf_perm_importance.importances_mean.argsort()[-len(pvalue_features):][::-1]\n",
    "rf_perm_top_features = tr_x.columns[rf_perm_top_features_idx].tolist()"
   ]
  },
  {
   "cell_type": "code",
   "execution_count": 30,
   "metadata": {},
   "outputs": [
    {
     "name": "stdout",
     "output_type": "stream",
     "text": [
      "['acidity', 'body', 'sweetness', '블렌딩', '매력', '향미']\n"
     ]
    }
   ],
   "source": [
    "print(rf_perm_top_features)"
   ]
  },
  {
   "cell_type": "markdown",
   "metadata": {},
   "source": [
    "구한 집합들의 교집합을 구해보자."
   ]
  },
  {
   "cell_type": "code",
   "execution_count": 31,
   "metadata": {},
   "outputs": [
    {
     "name": "stdout",
     "output_type": "stream",
     "text": [
      "['body', 'acidity', 'sweetness']\n"
     ]
    }
   ],
   "source": [
    "common_features = list(set(rf_perm_top_features) & set(rf_top_features) & set(pvalue_features))\n",
    "print(common_features)"
   ]
  },
  {
   "cell_type": "markdown",
   "metadata": {},
   "source": [
    "## 최종 모델 성능 실험"
   ]
  },
  {
   "cell_type": "code",
   "execution_count": 32,
   "metadata": {},
   "outputs": [
    {
     "name": "stdout",
     "output_type": "stream",
     "text": [
      "perm: 0.0031786324346620917\n",
      "feat: 0.002854635012053101\n",
      "pval: 0.003040653757119608\n",
      "common: 0.004201863503029189\n"
     ]
    }
   ],
   "source": [
    "rf_perm_model = RandomForestRegressor(n_estimators=100, random_state=42)\n",
    "rf_perm_model.fit(tr_x[rf_perm_top_features], tr_y)\n",
    "\n",
    "rf_feat_model = RandomForestRegressor(n_estimators=100, random_state=42)\n",
    "rf_feat_model.fit(tr_x[rf_top_features], tr_y)\n",
    "\n",
    "rf_pval_model = RandomForestRegressor(n_estimators=100, random_state=42)\n",
    "rf_pval_model.fit(tr_x[pvalue_features], tr_y)\n",
    "\n",
    "rf_common_model = RandomForestRegressor(n_estimators=100, random_state=42)\n",
    "rf_common_model.fit(tr_x[common_features], tr_y)\n",
    "\n",
    "rf_perm_pred = rf_perm_model.predict(val_x[rf_perm_top_features])\n",
    "rf_feat_pred = rf_feat_model.predict(val_x[rf_top_features])\n",
    "rf_pval_pred = rf_pval_model.predict(val_x[pvalue_features])\n",
    "rf_common_pred = rf_common_model.predict(val_x[common_features])\n",
    "\n",
    "print(\"perm:\", mean_squared_error(val_y, rf_perm_pred))\n",
    "print(\"feat:\", mean_squared_error(val_y, rf_feat_pred))\n",
    "print(\"pval:\", mean_squared_error(val_y, rf_pval_pred))\n",
    "print(\"common:\", mean_squared_error(val_y, rf_common_pred))"
   ]
  },
  {
   "cell_type": "markdown",
   "metadata": {},
   "source": [
    "feature importance 피처들을 활용했을 경우 가장 성능이 좋으므로 해당 피처들을 차례로 넣어가면서 최적의 개수를 찾아보자."
   ]
  },
  {
   "cell_type": "code",
   "execution_count": 33,
   "metadata": {},
   "outputs": [],
   "source": [
    "top_features_idx = rf_feature_importance.argsort()[::-1]\n",
    "top_features = tr_x.columns[top_features_idx].tolist()"
   ]
  },
  {
   "cell_type": "code",
   "execution_count": 34,
   "metadata": {},
   "outputs": [
    {
     "name": "stdout",
     "output_type": "stream",
     "text": [
      "best features length : 9 (previous : 7) || best metric : 0.00271 -> 0.00269 (previous : 0.00271)\r"
     ]
    }
   ],
   "source": [
    "best_metric = np.inf\n",
    "best_features = [None]\n",
    "\n",
    "for i in range(1, len(top_features) + 1):\n",
    "    model = RandomForestRegressor(n_estimators=100, random_state=42)    \n",
    "    tmp_features = top_features[:i]\n",
    "    model.fit(tr_x[tmp_features], tr_y)\n",
    "    pred = model.predict(val_x[tmp_features])\n",
    "    mse = mean_squared_error(val_y, pred)\n",
    "\n",
    "    if mse < best_metric:\n",
    "        prev_features = best_features\n",
    "        prev_metric = best_metric\n",
    "\n",
    "        print(f\"best features length : {len(tmp_features)} (previous : {len(prev_features)}) || best metric : {round(best_metric, 5)} -> {round(mse, 5)} (previous : {round(prev_metric, 5)})\", end='\\r')\n",
    "        \n",
    "        best_features = tmp_features\n",
    "        best_metric = mse\n",
    "        best_i = i\n",
    "\n",
    "    # early stop\n",
    "    if i - best_i > 10:\n",
    "        break"
   ]
  },
  {
   "cell_type": "code",
   "execution_count": 35,
   "metadata": {},
   "outputs": [
    {
     "name": "stdout",
     "output_type": "stream",
     "text": [
      "best_features : ['acidity', 'body', 'sweetness', 'roasting_point', '블렌딩', '로스팅', '향미', '산미', '매력']\n",
      "best_mse : 0.00269\n",
      "previous_features : ['acidity', 'body', 'sweetness', 'roasting_point', '블렌딩', '로스팅', '향미']\n",
      "previous_mse : 0.00271\n"
     ]
    }
   ],
   "source": [
    "print(f\"best_features : {best_features}\")\n",
    "print(f\"best_mse : {round(best_metric, 5)}\")\n",
    "print(f\"previous_features : {prev_features}\")\n",
    "print(f\"previous_mse : {round(prev_metric, 5)}\")"
   ]
  },
  {
   "cell_type": "markdown",
   "metadata": {},
   "source": [
    "최적의 피처는 ['acidity', 'body', 'sweetness', 'roasting_point', '블렌딩', '로스팅', '향미', '산미', '매력'] 라고 할 수 있음."
   ]
  },
  {
   "cell_type": "code",
   "execution_count": 36,
   "metadata": {},
   "outputs": [
    {
     "name": "stdout",
     "output_type": "stream",
     "text": [
      "0.002691833803339517\n"
     ]
    }
   ],
   "source": [
    "model = RandomForestRegressor(n_estimators=100, random_state=42)   \n",
    "model.fit(tr_x[best_features], tr_y)\n",
    "pred = model.predict(val_x[best_features])\n",
    "mse = mean_squared_error(val_y, pred)\n",
    "print(mse)"
   ]
  },
  {
   "cell_type": "markdown",
   "metadata": {},
   "source": [
    "iteration 횟수만 조절해보자."
   ]
  },
  {
   "cell_type": "code",
   "execution_count": 37,
   "metadata": {},
   "outputs": [
    {
     "name": "stdout",
     "output_type": "stream",
     "text": [
      "best iter : 250 || best metric : 0.00259 -> 0.00255\r"
     ]
    }
   ],
   "source": [
    "best_metric = np.inf\n",
    "\n",
    "for iters in [50, 60, 70, 80, 90, 100, 150, 200, 250, 300, 400, 500, 600, 700, 800, 900, 1000]:\n",
    "    model = RandomForestRegressor(n_estimators=iters, random_state=42)   \n",
    "    model.fit(tr_x[best_features], tr_y)\n",
    "    pred = model.predict(val_x[best_features])\n",
    "    mse = mean_squared_error(val_y, pred)\n",
    "\n",
    "    if round(mse,5) < round(best_metric,5):\n",
    "        print(f\"best iter : {iters} || best metric : {round(best_metric, 5)} -> {round(mse, 5)}\", end='\\r')\n",
    "        best_metric = mse"
   ]
  },
  {
   "cell_type": "code",
   "execution_count": 38,
   "metadata": {},
   "outputs": [
    {
     "name": "stdout",
     "output_type": "stream",
     "text": [
      "0.0025488283832062007\n"
     ]
    }
   ],
   "source": [
    "model = RandomForestRegressor(n_estimators=250, random_state=42)   \n",
    "model.fit(tr_x[best_features], tr_y)\n",
    "pred = model.predict(val_x[best_features])\n",
    "mse = mean_squared_error(val_y, pred)\n",
    "print(mse)"
   ]
  },
  {
   "cell_type": "code",
   "execution_count": 39,
   "metadata": {},
   "outputs": [],
   "source": [
    "X_train = non_na_df.drop(columns='aroma')\n",
    "y_train = non_na_df['aroma']\n",
    "\n",
    "X_test = na_df.drop(columns='aroma')\n",
    "y_test = na_df['aroma']"
   ]
  },
  {
   "cell_type": "code",
   "execution_count": 40,
   "metadata": {},
   "outputs": [],
   "source": [
    "final_model = RandomForestRegressor(n_estimators=250, random_state=42)   \n",
    "final_model.fit(X_train[best_features], y_train)\n",
    "pred = np.round(final_model.predict(X_test[best_features]),1) * 10"
   ]
  },
  {
   "cell_type": "code",
   "execution_count": 41,
   "metadata": {},
   "outputs": [],
   "source": [
    "items.loc[y_test.index, 'aroma'] = pred"
   ]
  },
  {
   "cell_type": "code",
   "execution_count": 42,
   "metadata": {},
   "outputs": [
    {
     "data": {
      "text/plain": [
       "0"
      ]
     },
     "execution_count": 42,
     "metadata": {},
     "output_type": "execute_result"
    }
   ],
   "source": [
    "items['aroma'].isna().sum()"
   ]
  },
  {
   "cell_type": "code",
   "execution_count": 43,
   "metadata": {},
   "outputs": [],
   "source": [
    "with open('./aroma_imputator.pkl', 'wb') as file:\n",
    "    pickle.dump(model, file)"
   ]
  },
  {
   "cell_type": "markdown",
   "metadata": {},
   "source": [
    "## Predict"
   ]
  },
  {
   "cell_type": "code",
   "execution_count": 44,
   "metadata": {},
   "outputs": [],
   "source": [
    "with open('./aroma_imputator.pkl', 'rb') as file:\n",
    "    imputator = pickle.load(file)"
   ]
  },
  {
   "cell_type": "code",
   "execution_count": 45,
   "metadata": {},
   "outputs": [],
   "source": [
    "pred = np.round(imputator.predict(X_test[best_features]),1) * 10"
   ]
  }
 ],
 "metadata": {
  "kernelspec": {
   "display_name": "recommendation-modeling",
   "language": "python",
   "name": "recommendation-modeling"
  },
  "language_info": {
   "codemirror_mode": {
    "name": "ipython",
    "version": 3
   },
   "file_extension": ".py",
   "mimetype": "text/x-python",
   "name": "python",
   "nbconvert_exporter": "python",
   "pygments_lexer": "ipython3",
   "version": "3.9.16"
  },
  "orig_nbformat": 4
 },
 "nbformat": 4,
 "nbformat_minor": 2
}
